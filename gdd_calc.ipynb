{
 "cells": [
  {
   "cell_type": "code",
   "execution_count": 27,
   "metadata": {},
   "outputs": [
    {
     "data": {
      "text/plain": [
       "\"\\nMain task:   execute_function (Example: gdd_evaluate, smoothing)\\n\\nwrapper function: myfunction()\\n\\nmain function: command line arguments, parallel processing, post processing\\n\\n2012, corn:\\nem,har,gdd -> Rasterstacks\\n757*1521 pixels\\n\\nevery pixel log:\\nmyfunction(em,har,gdd){\\n        gdd dataframe construct (365 rows)\\n        return gdd_evaluate(em_pixel,har_pixel,gdd_dataframe,crop='corn')\\n}\\ngdd_evaluate(e,h,gdd_df){\\n       row1=which(gdd_df('c1'=e))\\n       row2=which(gdd_df('c1'=h))\\n       return cummulative_sum(gd,row1,row2)\\n}\\n\\n\""
      ]
     },
     "execution_count": 27,
     "metadata": {},
     "output_type": "execute_result"
    }
   ],
   "source": [
    "\"\"\"\n",
    "Main task:   execute_function (Example: gdd_evaluate, smoothing)\n",
    "\n",
    "wrapper function: myfunction()\n",
    "\n",
    "main function: command line arguments, parallel processing, post processing\n",
    "\n",
    "2012, corn:\n",
    "em,har,gdd -> Rasterstacks\n",
    "757*1521 pixels\n",
    "\n",
    "every pixel log:\n",
    "myfunction(em,har,gdd){\n",
    "        gdd dataframe construct (365 rows)\n",
    "        return gdd_evaluate(em_pixel,har_pixel,gdd_dataframe,crop='corn')\n",
    "}\n",
    "gdd_evaluate(e,h,gdd_df){\n",
    "       row1=which(gdd_df('c1'=e))\n",
    "       row2=which(gdd_df('c1'=h))\n",
    "       return cummulative_sum(gd,row1,row2)\n",
    "}\n",
    "\n",
    "\"\"\""
   ]
  },
  {
   "cell_type": "code",
   "execution_count": 28,
   "metadata": {
    "collapsed": true
   },
   "outputs": [],
   "source": [
    "import pandas as pd\n",
    "import numpy as np\n",
    "import rasterio\n",
    "import time\n",
    "import random,sys,getopt\n",
    "from multiprocessing import Pool\n",
    "\n",
    "\n",
    "# In[4]:\n",
    "        \n",
    "\n",
    "def dataframe_extraction(r,row,col):\n",
    "    data_frame = (pd.DataFrame({'GDD':r[:,row,col]}))\n",
    "    data_frame['SUM'] = data_frame.GDD.cumsum()\n",
    "   \n",
    "    return data_frame\n",
    "\n",
    "\n"
   ]
  },
  {
   "cell_type": "code",
   "execution_count": 29,
   "metadata": {
    "collapsed": true
   },
   "outputs": [],
   "source": [
    "def initialize_rasters(path1,path2,path3):\n",
    "    raster1=rasterio.open(path1)\n",
    "    tot_cols=raster1.width\n",
    "    tot_rows=raster1.height\n",
    "    a=raster1.read()\n",
    "    print(\"Tot rows: \",tot_rows,\" Tot cols: \",tot_cols)\n",
    "    raster2=rasterio.open(path2)\n",
    "    b=raster2.read()\n",
    "    raster3=rasterio.open(path3)\n",
    "    c=raster3.read()\n",
    "    if(b.shape[0]!=a.shape[0]):\n",
    "        print(\"determine what doy you are missing!!\")\n",
    "        t1=b[0:6] #determine what doy you are missing!! in this case its DOY49 thus insert as 7th layer\n",
    "        t2=b[6:b.shape[0]]\n",
    "        p=b[0]*0\n",
    "        p=p.reshape(1,tot_rows,tot_cols)\n",
    "\n",
    "        tp=np.append(t1,p,axis=0)\n",
    "        b=np.append(tp,t2,axis=0)\n",
    "        #print(b.shape)\n",
    "    return (a,b,c,tot_rows,tot_cols)\n"
   ]
  },
  {
   "cell_type": "code",
   "execution_count": 30,
   "metadata": {
    "collapsed": true
   },
   "outputs": [],
   "source": [
    "def myfunction(index,rasters):\n",
    "    a=rasters[0]\n",
    "    b=rasters[1]\n",
    "    c=rasters[2]\n",
    "    tot_cols=a.shape[2]\n",
    "    tot_rows=a.shape[1]\n",
    "    #print(\"Tot rows: \",tot_rows,\" Tot cols: \",tot_cols)\n",
    "    row=int(index/tot_cols)\n",
    "    col=index-(tot_cols*row)\n",
    "    #print(\"row: \",row,\" col: \",col)\n",
    "    l1 = a[0,row,col]\n",
    "    l2 = b[0,row,col]\n",
    "    \n",
    "    gdd = 0\n",
    "    if l1 != 65535:\n",
    "        df=dataframe_extraction(c,row,col)\n",
    "        gdd=df.SUM[l2-1]-df.SUM[l1-2]\n",
    "\n",
    "    return gdd\n",
    "\n",
    "\n",
    "# The doy interval we need to consider for the dataframe passed into ritvik_fn changes from crop to crop and ste to state. For eg, for winter wheat in Kansas, greep up happens in 1:60 doys and sennescence in 125:200 doys.\n",
    "\n",
    "\n"
   ]
  },
  {
   "cell_type": "code",
   "execution_count": 35,
   "metadata": {},
   "outputs": [
    {
     "name": "stdout",
     "output_type": "stream",
     "text": [
      "Tot rows:  757  Tot cols:  1521\n",
      "(1, 757, 1521)\n",
      "(1, 757, 1521)\n",
      "(365, 757, 1521)\n",
      "757 1521\n",
      "[65535]\n",
      "[65535]\n",
      "0\n",
      "(1, 757, 1521)\n"
     ]
    }
   ],
   "source": [
    "a,b,c,tot_rows,tot_cols=initialize_rasters('emergence_harvesting_data/data_480/emergence_corn_2012_480.tif','emergence_harvesting_data/data_480/harvesting_corn_2012_480.tif','gdd_data/gdd_corn_2012.tif')\n",
    "\n",
    "print(a.shape)\n",
    "print(b.shape)\n",
    "print(c.shape)\n",
    "print(tot_rows, tot_cols)\n",
    "\n",
    "row=343\n",
    "col=1000\n",
    "l1 = a[:,row,col]\n",
    "l2 = b[:,row,col]\n",
    "print(l1)\n",
    "print(l2)\n",
    "gdd = 0\n",
    "if l1 != 65535:\n",
    "    df=dataframe_extraction(c,row,col)\n",
    "    gdd=df.SUM[l2-1]-df.SUM[l1-2]\n",
    "print(gdd)\n",
    "print(a.shape)"
   ]
  },
  {
   "cell_type": "code",
   "execution_count": 32,
   "metadata": {},
   "outputs": [
    {
     "ename": "GetoptError",
     "evalue": "option -f not recognized",
     "output_type": "error",
     "traceback": [
      "\u001b[0;31m---------------------------------------------------------------------------\u001b[0m",
      "\u001b[0;31mGetoptError\u001b[0m                               Traceback (most recent call last)",
      "\u001b[0;32m<ipython-input-32-1be52d5e58c8>\u001b[0m in \u001b[0;36m<module>\u001b[0;34m()\u001b[0m\n\u001b[1;32m     80\u001b[0m \u001b[0;34m\u001b[0m\u001b[0m\n\u001b[1;32m     81\u001b[0m \u001b[0;32mif\u001b[0m \u001b[0m__name__\u001b[0m\u001b[0;34m==\u001b[0m\u001b[0;34m\"__main__\"\u001b[0m\u001b[0;34m:\u001b[0m\u001b[0;34m\u001b[0m\u001b[0m\n\u001b[0;32m---> 82\u001b[0;31m     \u001b[0mmain\u001b[0m\u001b[0;34m(\u001b[0m\u001b[0msys\u001b[0m\u001b[0;34m.\u001b[0m\u001b[0margv\u001b[0m\u001b[0;34m[\u001b[0m\u001b[0;36m1\u001b[0m\u001b[0;34m:\u001b[0m\u001b[0;34m]\u001b[0m\u001b[0;34m)\u001b[0m\u001b[0;34m\u001b[0m\u001b[0m\n\u001b[0m",
      "\u001b[0;32m<ipython-input-32-1be52d5e58c8>\u001b[0m in \u001b[0;36mmain\u001b[0;34m(argv)\u001b[0m\n\u001b[1;32m      3\u001b[0m \u001b[0;31m#a,b,tot_rows,tot_cols=initialize_rasters(\"A2015_177_ndvi_480m.tif\",\"A2015_185_ndvi_480m.tif\")\u001b[0m\u001b[0;34m\u001b[0m\u001b[0;34m\u001b[0m\u001b[0m\n\u001b[1;32m      4\u001b[0m \u001b[0;32mdef\u001b[0m \u001b[0mmain\u001b[0m\u001b[0;34m(\u001b[0m\u001b[0margv\u001b[0m\u001b[0;34m)\u001b[0m\u001b[0;34m:\u001b[0m\u001b[0;34m\u001b[0m\u001b[0m\n\u001b[0;32m----> 5\u001b[0;31m     \u001b[0mopts\u001b[0m\u001b[0;34m,\u001b[0m\u001b[0margs\u001b[0m\u001b[0;34m=\u001b[0m\u001b[0mgetopt\u001b[0m\u001b[0;34m.\u001b[0m\u001b[0mgetopt\u001b[0m\u001b[0;34m(\u001b[0m\u001b[0margv\u001b[0m\u001b[0;34m,\u001b[0m\u001b[0;34m\"hp:m:r:s:\"\u001b[0m\u001b[0;34m,\u001b[0m\u001b[0;34m[\u001b[0m\u001b[0;34m\"processes=\"\u001b[0m\u001b[0;34m,\u001b[0m\u001b[0;34m\"mode=\"\u001b[0m\u001b[0;34m,\u001b[0m\u001b[0;34m\"run=\"\u001b[0m\u001b[0;34m,\u001b[0m\u001b[0;34m\"side=\"\u001b[0m\u001b[0;34m]\u001b[0m\u001b[0;34m)\u001b[0m\u001b[0;34m\u001b[0m\u001b[0m\n\u001b[0m\u001b[1;32m      6\u001b[0m     \u001b[0;32mfor\u001b[0m \u001b[0mopt\u001b[0m\u001b[0;34m,\u001b[0m\u001b[0marg\u001b[0m \u001b[0;32min\u001b[0m \u001b[0mopts\u001b[0m\u001b[0;34m:\u001b[0m\u001b[0;34m\u001b[0m\u001b[0m\n\u001b[1;32m      7\u001b[0m         \u001b[0;32mif\u001b[0m \u001b[0mopt\u001b[0m\u001b[0;34m==\u001b[0m\u001b[0;34m\"-h\"\u001b[0m\u001b[0;34m:\u001b[0m\u001b[0;34m\u001b[0m\u001b[0m\n",
      "\u001b[0;32m/home/yaramasur/.conda/envs/CCMS/lib/python3.5/getopt.py\u001b[0m in \u001b[0;36mgetopt\u001b[0;34m(args, shortopts, longopts)\u001b[0m\n\u001b[1;32m     93\u001b[0m             \u001b[0mopts\u001b[0m\u001b[0;34m,\u001b[0m \u001b[0margs\u001b[0m \u001b[0;34m=\u001b[0m \u001b[0mdo_longs\u001b[0m\u001b[0;34m(\u001b[0m\u001b[0mopts\u001b[0m\u001b[0;34m,\u001b[0m \u001b[0margs\u001b[0m\u001b[0;34m[\u001b[0m\u001b[0;36m0\u001b[0m\u001b[0;34m]\u001b[0m\u001b[0;34m[\u001b[0m\u001b[0;36m2\u001b[0m\u001b[0;34m:\u001b[0m\u001b[0;34m]\u001b[0m\u001b[0;34m,\u001b[0m \u001b[0mlongopts\u001b[0m\u001b[0;34m,\u001b[0m \u001b[0margs\u001b[0m\u001b[0;34m[\u001b[0m\u001b[0;36m1\u001b[0m\u001b[0;34m:\u001b[0m\u001b[0;34m]\u001b[0m\u001b[0;34m)\u001b[0m\u001b[0;34m\u001b[0m\u001b[0m\n\u001b[1;32m     94\u001b[0m         \u001b[0;32melse\u001b[0m\u001b[0;34m:\u001b[0m\u001b[0;34m\u001b[0m\u001b[0m\n\u001b[0;32m---> 95\u001b[0;31m             \u001b[0mopts\u001b[0m\u001b[0;34m,\u001b[0m \u001b[0margs\u001b[0m \u001b[0;34m=\u001b[0m \u001b[0mdo_shorts\u001b[0m\u001b[0;34m(\u001b[0m\u001b[0mopts\u001b[0m\u001b[0;34m,\u001b[0m \u001b[0margs\u001b[0m\u001b[0;34m[\u001b[0m\u001b[0;36m0\u001b[0m\u001b[0;34m]\u001b[0m\u001b[0;34m[\u001b[0m\u001b[0;36m1\u001b[0m\u001b[0;34m:\u001b[0m\u001b[0;34m]\u001b[0m\u001b[0;34m,\u001b[0m \u001b[0mshortopts\u001b[0m\u001b[0;34m,\u001b[0m \u001b[0margs\u001b[0m\u001b[0;34m[\u001b[0m\u001b[0;36m1\u001b[0m\u001b[0;34m:\u001b[0m\u001b[0;34m]\u001b[0m\u001b[0;34m)\u001b[0m\u001b[0;34m\u001b[0m\u001b[0m\n\u001b[0m\u001b[1;32m     96\u001b[0m \u001b[0;34m\u001b[0m\u001b[0m\n\u001b[1;32m     97\u001b[0m     \u001b[0;32mreturn\u001b[0m \u001b[0mopts\u001b[0m\u001b[0;34m,\u001b[0m \u001b[0margs\u001b[0m\u001b[0;34m\u001b[0m\u001b[0m\n",
      "\u001b[0;32m/home/yaramasur/.conda/envs/CCMS/lib/python3.5/getopt.py\u001b[0m in \u001b[0;36mdo_shorts\u001b[0;34m(opts, optstring, shortopts, args)\u001b[0m\n\u001b[1;32m    193\u001b[0m     \u001b[0;32mwhile\u001b[0m \u001b[0moptstring\u001b[0m \u001b[0;34m!=\u001b[0m \u001b[0;34m''\u001b[0m\u001b[0;34m:\u001b[0m\u001b[0;34m\u001b[0m\u001b[0m\n\u001b[1;32m    194\u001b[0m         \u001b[0mopt\u001b[0m\u001b[0;34m,\u001b[0m \u001b[0moptstring\u001b[0m \u001b[0;34m=\u001b[0m \u001b[0moptstring\u001b[0m\u001b[0;34m[\u001b[0m\u001b[0;36m0\u001b[0m\u001b[0;34m]\u001b[0m\u001b[0;34m,\u001b[0m \u001b[0moptstring\u001b[0m\u001b[0;34m[\u001b[0m\u001b[0;36m1\u001b[0m\u001b[0;34m:\u001b[0m\u001b[0;34m]\u001b[0m\u001b[0;34m\u001b[0m\u001b[0m\n\u001b[0;32m--> 195\u001b[0;31m         \u001b[0;32mif\u001b[0m \u001b[0mshort_has_arg\u001b[0m\u001b[0;34m(\u001b[0m\u001b[0mopt\u001b[0m\u001b[0;34m,\u001b[0m \u001b[0mshortopts\u001b[0m\u001b[0;34m)\u001b[0m\u001b[0;34m:\u001b[0m\u001b[0;34m\u001b[0m\u001b[0m\n\u001b[0m\u001b[1;32m    196\u001b[0m             \u001b[0;32mif\u001b[0m \u001b[0moptstring\u001b[0m \u001b[0;34m==\u001b[0m \u001b[0;34m''\u001b[0m\u001b[0;34m:\u001b[0m\u001b[0;34m\u001b[0m\u001b[0m\n\u001b[1;32m    197\u001b[0m                 \u001b[0;32mif\u001b[0m \u001b[0;32mnot\u001b[0m \u001b[0margs\u001b[0m\u001b[0;34m:\u001b[0m\u001b[0;34m\u001b[0m\u001b[0m\n",
      "\u001b[0;32m/home/yaramasur/.conda/envs/CCMS/lib/python3.5/getopt.py\u001b[0m in \u001b[0;36mshort_has_arg\u001b[0;34m(opt, shortopts)\u001b[0m\n\u001b[1;32m    209\u001b[0m         \u001b[0;32mif\u001b[0m \u001b[0mopt\u001b[0m \u001b[0;34m==\u001b[0m \u001b[0mshortopts\u001b[0m\u001b[0;34m[\u001b[0m\u001b[0mi\u001b[0m\u001b[0;34m]\u001b[0m \u001b[0;34m!=\u001b[0m \u001b[0;34m':'\u001b[0m\u001b[0;34m:\u001b[0m\u001b[0;34m\u001b[0m\u001b[0m\n\u001b[1;32m    210\u001b[0m             \u001b[0;32mreturn\u001b[0m \u001b[0mshortopts\u001b[0m\u001b[0;34m.\u001b[0m\u001b[0mstartswith\u001b[0m\u001b[0;34m(\u001b[0m\u001b[0;34m':'\u001b[0m\u001b[0;34m,\u001b[0m \u001b[0mi\u001b[0m\u001b[0;34m+\u001b[0m\u001b[0;36m1\u001b[0m\u001b[0;34m)\u001b[0m\u001b[0;34m\u001b[0m\u001b[0m\n\u001b[0;32m--> 211\u001b[0;31m     \u001b[0;32mraise\u001b[0m \u001b[0mGetoptError\u001b[0m\u001b[0;34m(\u001b[0m\u001b[0m_\u001b[0m\u001b[0;34m(\u001b[0m\u001b[0;34m'option -%s not recognized'\u001b[0m\u001b[0;34m)\u001b[0m \u001b[0;34m%\u001b[0m \u001b[0mopt\u001b[0m\u001b[0;34m,\u001b[0m \u001b[0mopt\u001b[0m\u001b[0;34m)\u001b[0m\u001b[0;34m\u001b[0m\u001b[0m\n\u001b[0m\u001b[1;32m    212\u001b[0m \u001b[0;34m\u001b[0m\u001b[0m\n\u001b[1;32m    213\u001b[0m \u001b[0;32mif\u001b[0m \u001b[0m__name__\u001b[0m \u001b[0;34m==\u001b[0m \u001b[0;34m'__main__'\u001b[0m\u001b[0;34m:\u001b[0m\u001b[0;34m\u001b[0m\u001b[0m\n",
      "\u001b[0;31mGetoptError\u001b[0m: option -f not recognized"
     ]
    }
   ],
   "source": [
    "# In[8]:\n",
    "\n",
    "#a,b,tot_rows,tot_cols=initialize_rasters(\"A2015_177_ndvi_480m.tif\",\"A2015_185_ndvi_480m.tif\")\n",
    "def main(argv):\n",
    "    opts,args=getopt.getopt(argv,\"hp:m:r:s:\",[\"processes=\",\"mode=\",\"run=\",\"side=\"])\n",
    "    for opt,arg in opts:\n",
    "        if opt==\"-h\":\n",
    "            print(\"python crop_phenology.py -p 16 -m 100 -r s -s 1 \")\n",
    "            print(\"Give the number of processes into -p switch and the number of pixels to run as -m switch and the way to run as -r switch and which half of the raster as --side if -s 0 is given then the total raster is evaluated\")\n",
    "            print(\"python crop_phenology.py -p 16 -m 0 -r s|p  -s 0|1|2   -> m=0 implies run on all pixels and r=s implies run sequentially where as r=p implies running paralelly\")\n",
    "            sys.exit()\n",
    "        elif opt in (\"-p\",\"--processes\"):\n",
    "            num_proc=int(arg)\n",
    "        elif opt in (\"-m\",\"--mode\"):\n",
    "            index_input=int(arg)\n",
    "            if index_input==0:\n",
    "                ind_start=0\n",
    "            else:\n",
    "                ind_start=988650+500\n",
    "        elif opt in (\"-r\",\"--run\"):\n",
    "            run=arg\n",
    "        elif opt in (\"-s\",\"--side\"):\n",
    "            side=int(arg)    \n",
    "\n",
    "    a,b,c,tot_rows,tot_cols=initialize_rasters('emergence_harvesting_data/data_480/emergence_corn_2012_480.tif','emergence_harvesting_data/data_480/harvesting_corn_2012_480.tif','gdd_data/gdd_corn_2012.tif')\n",
    "    y=[(a,b,c)]*tot_rows*tot_cols\n",
    "\n",
    "    ind=range(tot_rows*tot_cols)\n",
    "    l=list()\n",
    "    l=list(list(zip(ind,y))[:])\n",
    "    #greenup=np.zeros(shape=a[1].shape)\n",
    "    #sen=greenup\n",
    "\n",
    "    start=time.time()\n",
    "    if index_input==0:\n",
    "            if(side==1):\n",
    "                ind_start=0\n",
    "                ind_end=int(len(l)/2)\n",
    "            elif(side==2):\n",
    "                ind_start=int(len(l)/2)\n",
    "                ind_end=len(l)\n",
    "            elif(side==0):\n",
    "                ind_start=0\n",
    "                ind_end=len(l)\n",
    "            #print(ind_end)\n",
    "    else:\n",
    "            ind_end=ind_start+index_input\n",
    "\n",
    "    print(\"ind_start: \",ind_start,\" ind_end: \",ind_end)\n",
    "    if(run==\"p\"):\n",
    "        with Pool(processes=num_proc) as pool:\n",
    "            #ind_start=988800\n",
    "            #ind_end=ind_start+1000\n",
    "            values=pool.starmap(myfunction,l[ind_start:ind_end])\n",
    "            pool.close()\n",
    "            pool.join()\n",
    "    elif(run==\"s\"):\n",
    "        for i in range(ind_start,ind_end):\n",
    "            values.append(myfunction(l[i][0],l[i][1]))\n",
    "    end=time.time()\n",
    "    print(end-start)\n",
    "    #print(pairs)\n",
    "\n",
    "\n",
    "    src=rasterio.open('emergence_harvesting_data/data_480/emergence_corn_2012_480.tif')\n",
    "    profile=src.profile\n",
    "    profile.update(count=1)\n",
    "    print(profile)\n",
    "    gdd=np.zeros(shape=a.shape)\n",
    "    for index in list(range(ind_start,ind_end)):\n",
    "        row=int(index/tot_cols)\n",
    "        col=index-(tot_cols*row)\n",
    "        gdd[0][row][col]=values[index-ind_start]\n",
    "           \n",
    "        \n",
    "    with rasterio.open('cummulative_gdd_output/test/gdd_emergence_harvest.tif', 'w', **profile) as dst:\n",
    "            dst.write(gdd.astype(rasterio.uint16), 1)\n",
    "    \n",
    "\n",
    "\n",
    "if __name__==\"__main__\":\n",
    "    main(sys.argv[1:])\n"
   ]
  },
  {
   "cell_type": "code",
   "execution_count": null,
   "metadata": {
    "collapsed": true
   },
   "outputs": [],
   "source": []
  }
 ],
 "metadata": {
  "kernelspec": {
   "display_name": "Python 3",
   "language": "python",
   "name": "python3"
  },
  "language_info": {
   "codemirror_mode": {
    "name": "ipython",
    "version": 3
   },
   "file_extension": ".py",
   "mimetype": "text/x-python",
   "name": "python",
   "nbconvert_exporter": "python",
   "pygments_lexer": "ipython3",
   "version": "3.5.3"
  }
 },
 "nbformat": 4,
 "nbformat_minor": 2
}
